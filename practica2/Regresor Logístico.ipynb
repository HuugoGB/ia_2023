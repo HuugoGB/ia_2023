{
 "cells": [
  {
   "cell_type": "markdown",
   "id": "c27916b3-b573-4869-9865-f232bcf1bae1",
   "metadata": {},
   "source": [
    "# Práctica 2 - Aprendizaje Automático (Regresor Logístico)"
   ]
  },
  {
   "cell_type": "markdown",
   "id": "17a45aaf-1a65-4d20-82af-e9f2963fb2c0",
   "metadata": {},
   "source": [
    "## Introducción"
   ]
  },
  {
   "cell_type": "markdown",
   "id": "9a80e84c-adec-410a-adf4-a4b25cb48afc",
   "metadata": {},
   "source": [
    "Se debe realizar un reconocedor de números escritos a mano (un OCR de números). Para ello, se asume hecha la parte de visión computacional (detección de texto en la imagen, recorte de caracteres y normalización de la imagen) y nuestro data set contendrá ejemplos de números con un formato de imágenes de 8 x 8 píxeles (que se vectoriza en un vector de 64 posiciones con un recorrido de la imagen por filas desde la esquina superior izquierda) donde el valor de cada píxel está dentro del rango 0 (negro) - 16 (blanco)."
   ]
  },
  {
   "cell_type": "markdown",
   "id": "b89f057a-1f3a-4b5b-8553-dbd8f4138592",
   "metadata": {},
   "source": [
    "Por tanto, hacer el reconocedor de caracteres es lo mismo que dada una nueva imagen recortada, clasificar esta imagen en la clase correspondiente al número, es decir, tendremos 10 clases, del “0” al “9”."
   ]
  },
  {
   "cell_type": "markdown",
   "id": "091bd4f2-c061-45d8-bc34-189826902c16",
   "metadata": {},
   "source": [
    "#### Dataset"
   ]
  },
  {
   "cell_type": "code",
   "execution_count": 1,
   "id": "0fc24b91-38b5-4084-a605-a4d2887db584",
   "metadata": {},
   "outputs": [],
   "source": [
    "import matplotlib.pyplot as plt\n",
    "\n",
    "from sklearn import datasets, metrics\n",
    "from sklearn.linear_model import LogisticRegression\n",
    "from sklearn.model_selection import train_test_split"
   ]
  },
  {
   "cell_type": "code",
   "execution_count": 2,
   "id": "ecf3e6e5-7053-471e-b9ee-9f6f49f2e6d7",
   "metadata": {},
   "outputs": [
    {
     "data": {
      "image/png": "[encoded data removed]",
      "text/plain": [
       "<Figure size 1000x300 with 4 Axes>"
      ]
     },
     "metadata": {},
     "output_type": "display_data"
    }
   ],
   "source": [
    "digits = datasets.load_digits()\n",
    "\n",
    "_, axes = plt.subplots(nrows=1, ncols=4, figsize=(10, 3))\n",
    "for ax, image, label in zip(axes, digits.images, digits.target):\n",
    "    ax.set_axis_off()\n",
    "    ax.imshow(image, cmap=plt.cm.gray_r, interpolation=\"nearest\")\n",
    "    ax.set_title(\"Training: %i\" % label)"
   ]
  },
  {
   "cell_type": "markdown",
   "id": "1c149d0a-28ca-453a-8c6e-f554bd119419",
   "metadata": {},
   "source": [
    "#### Entrenamiento"
   ]
  },
  {
   "cell_type": "code",
   "execution_count": 3,
   "id": "afa7144a-4610-400e-bd36-98310f045ee2",
   "metadata": {},
   "outputs": [],
   "source": [
    "n_samples = len(digits.images)\n",
    "data = digits.images.reshape((n_samples, -1))\n",
    "\n",
    "#Se dividen los datos del dataset, el 50% para entrenamiento (X_train, y_train) \n",
    "#y el otro 50% para los test (X_test,y_test)\n",
    "X_train, X_test, y_train, y_test = train_test_split(data, digits.target, test_size=0.5, random_state=42,shuffle=False\n",
    ")"
   ]
  },
  {
   "cell_type": "code",
   "execution_count": 4,
   "id": "a95b48d3-e408-4b71-a439-33313a7aea67",
   "metadata": {},
   "outputs": [],
   "source": [
    "#Se aumenta el numero de max_iter, porque con el valor predeterminado (100), no es suficiente\n",
    "#para que el algoritmo de regresión logistica alcanze la convergencia durante el número máximo\n",
    "#de iteraciones, la manera de solucionarlo es aumentando el valor de max_iter.\n",
    "regr = LogisticRegression(fit_intercept=True, max_iter=10000) \n",
    "regr.fit(X_train, y_train);"
   ]
  },
  {
   "cell_type": "code",
   "execution_count": 5,
   "id": "beeeaa7d-3389-408a-81dd-ae4214bd3c90",
   "metadata": {},
   "outputs": [
    {
     "data": {
      "text/plain": [
       "array([  2.19140807, -11.7172614 ,  -1.19983099,   8.07798146,\n",
       "         2.12510632,  -4.18770446,  -1.49507649,   4.52584039,\n",
       "        -1.18577463,   2.86531173])"
      ]
     },
     "execution_count": 5,
     "metadata": {},
     "output_type": "execute_result"
    }
   ],
   "source": [
    "regr.intercept_"
   ]
  },
  {
   "cell_type": "code",
   "execution_count": 6,
   "id": "5f83dc40-498d-4b2d-a0f7-c872d63dd6ef",
   "metadata": {},
   "outputs": [
    {
     "data": {
      "text/plain": [
       "array([[ 0.00000000e+00, -6.03065857e-03, -4.21255617e-02,\n",
       "         5.03152371e-02,  1.12286520e-02, -4.16681424e-02,\n",
       "        -8.90245125e-02, -1.10918092e-02, -1.54762109e-05,\n",
       "        -2.49491440e-02, -4.76097668e-02,  5.48215543e-02,\n",
       "         3.89061722e-02,  6.08773192e-02, -7.87801503e-03,\n",
       "        -1.22858165e-02, -3.26987522e-08,  2.25720319e-02,\n",
       "         8.61183241e-02, -1.30056027e-03, -1.16982229e-01,\n",
       "         6.80710368e-02,  1.00087694e-01, -3.20065680e-03,\n",
       "        -3.29710107e-08,  4.53223110e-02,  1.05691044e-01,\n",
       "        -1.41458154e-01, -3.43978436e-01, -2.18281709e-02,\n",
       "         1.78674342e-01, -1.08236905e-07,  0.00000000e+00,\n",
       "         1.07922334e-01,  6.67251668e-02, -2.03107602e-01,\n",
       "        -2.30701469e-01, -6.85811886e-03,  1.16466962e-01,\n",
       "         0.00000000e+00, -4.92975331e-07,  3.75564225e-02,\n",
       "         1.24753632e-01, -1.85351765e-02, -1.23518832e-01,\n",
       "         7.86462135e-02,  5.26447232e-02, -1.21392593e-06,\n",
       "        -9.12779489e-06, -4.66687278e-02,  9.36318692e-02,\n",
       "        -2.26472350e-03,  7.79156216e-02,  1.05566799e-01,\n",
       "        -1.43041211e-02, -9.57855023e-05, -1.55853120e-06,\n",
       "        -4.78523199e-03,  1.01085572e-04,  2.24921727e-02,\n",
       "         4.68207681e-03, -7.50682468e-02, -2.33286641e-02,\n",
       "        -7.68652642e-05],\n",
       "       [ 0.00000000e+00, -2.13625213e-02,  1.88039817e-02,\n",
       "         5.95351989e-02, -2.99473994e-01,  2.13265995e-01,\n",
       "         3.24266068e-02, -7.31023438e-04, -1.91900970e-05,\n",
       "        -9.12860807e-02, -2.86698125e-01, -2.81076477e-01,\n",
       "         1.00157442e-01,  3.59537104e-02, -1.62523695e-01,\n",
       "        -6.34938753e-04, -1.14454565e-07,  3.96955303e-02,\n",
       "        -1.27617394e-01,  3.89228286e-01,  2.72881160e-01,\n",
       "        -1.17248693e-01, -1.28058719e-01, -5.68921664e-04,\n",
       "        -1.42023488e-03,  9.49666727e-02,  1.57306983e-01,\n",
       "         3.50564607e-01,  2.60424972e-01,  2.46311160e-02,\n",
       "        -8.19848537e-02, -1.64552154e-07,  0.00000000e+00,\n",
       "         2.56139785e-02,  1.87626872e-01, -1.54886378e-01,\n",
       "         2.77034723e-01,  5.95833045e-02, -1.81183083e-01,\n",
       "         0.00000000e+00, -2.31638341e-07, -1.64700173e-01,\n",
       "        -2.37718185e-03,  1.33271250e-01,  1.19955688e-01,\n",
       "        -2.61857961e-01, -1.77728800e-01, -1.21447547e-07,\n",
       "        -4.18861675e-05, -5.56267016e-02, -2.47124328e-02,\n",
       "         1.91346381e-01,  2.14223215e-01,  3.91511327e-02,\n",
       "         2.99817081e-02,  8.39407184e-02, -1.39393973e-05,\n",
       "        -3.09197820e-02, -4.71155515e-02,  5.89965760e-02,\n",
       "        -3.21611926e-02,  1.89429877e-01,  7.81317531e-02,\n",
       "         1.83419881e-01],\n",
       "       [ 0.00000000e+00,  2.56821191e-02, -2.31523506e-02,\n",
       "         2.35124984e-02,  6.78802634e-02,  3.96147864e-02,\n",
       "         1.51358754e-02, -4.81748000e-03, -3.37893216e-08,\n",
       "         1.83242654e-01,  1.44212517e-01, -8.00497229e-02,\n",
       "         1.14744759e-01, -3.85202404e-02,  7.30793463e-02,\n",
       "        -4.33972417e-03,  2.48673007e-03, -7.84841502e-02,\n",
       "         6.43691328e-03, -1.74087951e-01,  1.48877700e-01,\n",
       "        -7.36655979e-02,  1.24736061e-01, -1.34998160e-06,\n",
       "        -3.28561256e-08, -1.35286548e-01, -3.35263843e-01,\n",
       "        -2.71024862e-01, -7.20645716e-02,  1.06676095e-03,\n",
       "         5.30114332e-02, -3.26152152e-08,  0.00000000e+00,\n",
       "        -7.21176695e-02, -2.29591446e-01, -1.49475862e-01,\n",
       "         9.91588070e-02, -2.35282530e-01, -1.40924594e-01,\n",
       "         0.00000000e+00, -2.27481830e-07,  7.31233693e-02,\n",
       "         1.46313168e-01,  3.23661469e-01, -2.58960999e-01,\n",
       "        -2.73166535e-01, -7.10577962e-02, -1.19440483e-07,\n",
       "         1.09409000e-04,  9.30090192e-02,  1.68273430e-02,\n",
       "         3.24876419e-01,  1.18977427e-01,  2.52531807e-01,\n",
       "         9.65246980e-02,  4.22494352e-02,  3.64916762e-05,\n",
       "         4.84232878e-02,  1.02716744e-01,  8.41717583e-02,\n",
       "         2.02756695e-02,  1.94821289e-01,  2.73316075e-01,\n",
       "         2.28646425e-02],\n",
       "       [ 0.00000000e+00,  6.00034413e-02, -3.78037647e-02,\n",
       "         1.01118216e-01,  2.58669751e-01, -4.47862198e-03,\n",
       "         2.23758204e-02, -2.80312786e-04, -1.20821895e-06,\n",
       "        -1.04317899e-01,  3.81831937e-02, -5.64247755e-02,\n",
       "         6.27722707e-02,  2.29824353e-02,  5.61382635e-02,\n",
       "         5.51466034e-04, -2.48528905e-03,  3.00764935e-02,\n",
       "        -1.47883830e-01, -3.33386731e-01, -2.60799292e-02,\n",
       "        -1.45757335e-01, -5.43720847e-03, -1.07329814e-04,\n",
       "        -3.24806470e-08, -1.03465289e-01, -3.93395648e-01,\n",
       "        -2.29626988e-01,  1.24455588e-01, -2.45099738e-01,\n",
       "        -1.83942724e-01, -3.24794068e-08,  0.00000000e+00,\n",
       "        -4.32121938e-02, -2.73557358e-01, -6.35254509e-02,\n",
       "         2.11855201e-01, -6.60098258e-02,  5.73475161e-02,\n",
       "         0.00000000e+00, -2.27348954e-07, -6.89872664e-02,\n",
       "        -2.37160518e-01, -4.61892631e-01, -3.57994359e-02,\n",
       "         2.45932381e-01,  1.63601032e-01, -9.74423439e-08,\n",
       "        -1.40146652e-06,  1.93398176e-02,  1.39708422e-01,\n",
       "        -3.70487152e-02,  4.41908839e-03,  7.28883602e-02,\n",
       "         2.98362697e-02, -2.99942612e-02, -4.45400219e-07,\n",
       "         4.31487711e-02,  2.03319617e-01, -7.58024059e-02,\n",
       "         4.25063106e-02,  4.75479592e-02,  5.89290591e-02,\n",
       "        -7.90492638e-02],\n",
       "       [ 0.00000000e+00, -8.18460499e-05, -2.04138899e-01,\n",
       "        -1.68702326e-01, -4.75661806e-02, -2.02188225e-01,\n",
       "        -1.41168226e-01,  7.41308144e-02, -1.01595425e-05,\n",
       "        -1.94276217e-02, -1.45392377e-01, -3.63697398e-02,\n",
       "        -1.49259770e-01, -2.01407111e-01, -8.42937349e-02,\n",
       "        -4.06023798e-03, -3.26709768e-08,  1.08940881e-02,\n",
       "         4.87229602e-02,  1.07550804e-01,  1.01967337e-01,\n",
       "        -5.72346992e-02, -7.44186047e-02,  1.10843402e-02,\n",
       "         1.43457508e-03,  8.83891316e-02,  1.72312212e-01,\n",
       "         3.60158379e-02, -2.41694800e-02,  7.86414267e-02,\n",
       "         2.72522981e-01,  5.63333789e-03,  0.00000000e+00,\n",
       "         1.53810920e-01,  2.33310573e-01, -3.83880867e-02,\n",
       "         1.65197211e-01,  1.57168544e-01,  7.33956965e-02,\n",
       "         0.00000000e+00,  3.29397247e-05,  3.10361352e-01,\n",
       "         1.30097371e-01,  2.87531134e-01,  2.57785451e-01,\n",
       "        -7.44497563e-05, -1.12890518e-02, -2.12714300e-05,\n",
       "         5.47674462e-06,  8.40163146e-02, -1.83121084e-01,\n",
       "        -3.99165392e-02,  4.39205811e-02, -2.09946402e-01,\n",
       "        -1.32074473e-01, -6.37369357e-03, -2.95925942e-07,\n",
       "        -1.64282899e-02, -2.38638047e-01, -1.11260957e-01,\n",
       "        -1.15202450e-01, -1.57661228e-01, -5.09661406e-02,\n",
       "        -3.40369033e-04],\n",
       "       [ 0.00000000e+00,  6.04146746e-02,  2.65140635e-01,\n",
       "        -8.71968796e-03,  3.99945339e-02,  2.23239237e-01,\n",
       "         2.53528620e-01, -4.23162212e-02,  7.62861703e-05,\n",
       "         7.01216379e-02,  1.12726893e-01,  8.04226619e-02,\n",
       "         2.08481469e-02,  1.58091407e-01, -6.50949637e-02,\n",
       "        -1.93771949e-02, -3.44986253e-08,  2.38962033e-03,\n",
       "         1.49987735e-01,  9.60859009e-02, -1.91095617e-01,\n",
       "        -2.94604386e-01, -2.56094768e-01, -2.20949174e-03,\n",
       "        -1.27441908e-05,  2.00860491e-01,  2.25966493e-01,\n",
       "         6.64442105e-02,  4.32269439e-02, -1.29816206e-01,\n",
       "        -9.14436324e-02, -3.57628873e-08,  0.00000000e+00,\n",
       "        -3.06909134e-02,  2.36289400e-02, -8.59293368e-02,\n",
       "        -1.36552789e-01,  8.53824924e-02,  2.41833111e-01,\n",
       "         0.00000000e+00, -2.27865585e-07, -9.28348001e-02,\n",
       "        -1.20439433e-01, -5.10381104e-02,  3.91753770e-02,\n",
       "         1.28474667e-01,  9.68923121e-02, -1.00636195e-07,\n",
       "        -2.17868092e-07,  5.83040006e-02, -1.24822878e-01,\n",
       "        -1.61114764e-01,  3.22250659e-02,  3.53322878e-02,\n",
       "        -7.19748755e-02, -3.40511805e-04, -4.91979572e-08,\n",
       "         7.29608379e-02,  2.08828567e-01,  1.14917153e-01,\n",
       "        -1.02594415e-01, -5.38155679e-02, -2.40977931e-01,\n",
       "        -1.63571424e-03],\n",
       "       [ 0.00000000e+00, -1.22438202e-02, -1.05576086e-01,\n",
       "        -1.12248934e-02, -2.19428716e-02, -2.15579410e-03,\n",
       "        -1.23838213e-01, -1.69365907e-05, -4.76680373e-06,\n",
       "        -1.15000986e-01, -1.35612961e-01,  7.02386763e-02,\n",
       "        -2.22778749e-01, -1.78075629e-02, -4.29684360e-02,\n",
       "        -3.43880295e-05, -3.25351508e-08, -7.66892410e-02,\n",
       "         9.29501273e-02,  3.13641490e-02, -2.43489429e-01,\n",
       "        -2.79404973e-01, -8.08933606e-02, -2.03438767e-05,\n",
       "        -3.85497400e-07,  4.97784104e-02,  6.93241820e-02,\n",
       "         9.82309621e-02, -1.48460854e-01, -1.08006798e-01,\n",
       "        -4.51823435e-02, -1.09002369e-07,  0.00000000e+00,\n",
       "         6.26036062e-02,  2.16114793e-01,  1.66448338e-01,\n",
       "        -1.56208816e-01,  8.29592536e-02,  4.81257907e-02,\n",
       "         0.00000000e+00, -3.08381240e-05, -8.95576556e-02,\n",
       "         3.57231799e-01,  2.63123734e-02,  1.07251100e-01,\n",
       "         1.36790847e-01,  1.20048514e-01,  8.13544350e-04,\n",
       "        -8.87266835e-07, -3.68256470e-02,  5.80170066e-02,\n",
       "         7.68846222e-02, -4.41458904e-02,  1.18483835e-01,\n",
       "         2.27742531e-02, -6.16347209e-02, -3.90806369e-08,\n",
       "        -1.47325957e-02, -1.51943978e-01, -3.29559260e-02,\n",
       "         6.13452392e-02,  1.26215435e-01, -2.42853017e-03,\n",
       "        -4.63065914e-02],\n",
       "       [ 0.00000000e+00, -7.14585220e-02,  1.42924448e-01,\n",
       "        -5.52518553e-02, -9.67249948e-03,  7.27256358e-02,\n",
       "         1.40793986e-01,  7.14818667e-02, -3.37829025e-08,\n",
       "         1.12853521e-02,  1.66145161e-01,  1.18437594e-01,\n",
       "         3.14184678e-01, -1.16571771e-01, -2.25651578e-02,\n",
       "         5.51797328e-02, -4.96197673e-07, -6.90850350e-02,\n",
       "        -3.41056015e-01, -1.33094498e-01,  2.03304769e-02,\n",
       "         1.47597669e-01,  1.33692349e-01,  4.48882003e-03,\n",
       "        -8.99397395e-07, -1.58828215e-01,  1.15536148e-02,\n",
       "        -2.89149474e-01, -4.02632668e-02,  1.31799519e-01,\n",
       "         1.36198551e-01, -2.58784381e-03,  0.00000000e+00,\n",
       "         6.53620809e-02,  1.18350130e-02, -1.37897700e-02,\n",
       "         5.86298487e-02,  2.20659596e-01,  1.85685105e-01,\n",
       "         0.00000000e+00, -2.29844610e-07,  8.09598661e-03,\n",
       "        -7.80283322e-02,  7.61005695e-02,  7.65929440e-02,\n",
       "        -7.76598064e-02, -1.03211738e-02, -9.79920685e-08,\n",
       "        -6.57384979e-06, -5.97357194e-02, -8.94090708e-02,\n",
       "         5.17850682e-02, -1.02173057e-01, -3.34729485e-01,\n",
       "        -4.94537190e-02, -2.15131368e-04, -2.00062331e-06,\n",
       "        -6.63464718e-02,  8.15664932e-02, -9.24515691e-02,\n",
       "        -1.20611765e-01, -2.47576144e-01, -1.93894428e-02,\n",
       "        -1.27455171e-03],\n",
       "       [ 0.00000000e+00, -2.22283102e-02, -6.81512276e-03,\n",
       "        -1.42206032e-01,  9.12760434e-02, -1.42583696e-01,\n",
       "        -9.61829577e-02, -1.08089938e-03, -2.49328907e-05,\n",
       "        -5.38630743e-02,  1.01691578e-01,  5.52712528e-02,\n",
       "        -1.62170574e-01,  5.80690621e-02,  2.87167178e-02,\n",
       "        -5.22650760e-04, -3.36463454e-07, -4.00494670e-02,\n",
       "        -1.43790183e-02,  4.22229208e-02, -6.50723671e-02,\n",
       "         3.29770409e-01,  8.89156668e-02, -3.16567872e-04,\n",
       "        -1.77227424e-07, -5.37641642e-02,  1.84135386e-02,\n",
       "         1.60145978e-01,  6.40203036e-02, -9.32962307e-02,\n",
       "        -1.50872067e-01, -5.12036650e-05,  0.00000000e+00,\n",
       "        -1.62111801e-01, -1.13387659e-01,  3.04554997e-01,\n",
       "        -8.09708222e-02, -2.66111942e-01, -2.66642267e-01,\n",
       "         0.00000000e+00, -2.37092139e-07,  7.03967709e-02,\n",
       "         1.81145961e-01,  9.73728733e-02,  7.36387685e-02,\n",
       "         2.37502192e-01,  1.27300139e-02, -7.90424599e-04,\n",
       "        -5.45832668e-05, -1.63064473e-01,  7.25741718e-02,\n",
       "        -2.13801498e-01, -1.17749265e-01,  3.90867320e-02,\n",
       "         7.58542067e-02, -4.20544248e-02, -1.81158484e-05,\n",
       "        -2.72163062e-02, -2.04713447e-01,  1.24877752e-01,\n",
       "         2.09984490e-01,  1.05446230e-03, -7.82614667e-02,\n",
       "        -6.01645904e-02],\n",
       "       [ 0.00000000e+00, -1.26945566e-02, -7.25727969e-03,\n",
       "         1.51623645e-01, -9.03936985e-02, -1.55771175e-01,\n",
       "        -1.40470004e-02, -8.52779985e-02, -4.84834319e-07,\n",
       "         1.44195162e-01,  5.23538868e-02,  7.47289760e-02,\n",
       "        -1.17404376e-01,  3.83327508e-02,  2.27389675e-01,\n",
       "        -1.44762478e-02, -3.61506412e-07,  1.58680129e-01,\n",
       "         2.46720197e-01, -2.45823206e-02,  9.86628964e-02,\n",
       "         4.22476570e-01,  9.74708892e-02, -9.14849848e-03,\n",
       "        -3.55834119e-08, -2.79728009e-02, -3.19085765e-02,\n",
       "         2.19857882e-01,  1.36808800e-01,  3.61908321e-01,\n",
       "        -8.69816866e-02, -2.99380777e-03,  0.00000000e+00,\n",
       "        -1.07180342e-01, -1.22704895e-01,  2.38099153e-01,\n",
       "        -2.07441894e-01, -3.14907745e-02, -1.34104237e-01,\n",
       "         0.00000000e+00, -2.27353870e-07, -8.34540061e-02,\n",
       "        -5.01536467e-01, -4.12783751e-01, -2.56120060e-01,\n",
       "        -2.14587548e-01, -1.75519773e-01, -9.74367364e-08,\n",
       "        -2.08063862e-07,  1.07252117e-01,  4.13066529e-02,\n",
       "        -1.90746250e-01, -2.27612785e-01, -1.18365067e-01,\n",
       "         1.28360535e-02,  1.45183756e-02, -4.76712666e-08,\n",
       "        -4.10421913e-03,  4.58785162e-02, -9.29845546e-02,\n",
       "         3.17760357e-02, -2.49478349e-02,  4.97528848e-03,\n",
       "        -1.74365773e-02]])"
      ]
     },
     "execution_count": 6,
     "metadata": {},
     "output_type": "execute_result"
    }
   ],
   "source": [
    "regr.coef_"
   ]
  },
  {
   "cell_type": "markdown",
   "id": "75ececaf-8b66-4e84-8f59-a2e22289fb4b",
   "metadata": {},
   "source": [
    "#### Predicción"
   ]
  },
  {
   "cell_type": "code",
   "execution_count": 7,
   "id": "49463e17-f551-44fe-8ceb-eff9da783f3f",
   "metadata": {},
   "outputs": [
    {
     "data": {
      "image/png": "[encoded data removed]",
      "text/plain": [
       "<Figure size 1000x300 with 4 Axes>"
      ]
     },
     "metadata": {},
     "output_type": "display_data"
    }
   ],
   "source": [
    "#Se hace la prediccion con los datos de testeo\n",
    "y_pred = regr.predict(X_test)\n",
    "#Algunas predicciones\n",
    "_, axes = plt.subplots(nrows=1, ncols=4, figsize=(10, 3))\n",
    "for ax, image, prediction in zip(axes, X_test, y_pred):  \n",
    "    ax.set_axis_off()\n",
    "    image = image.reshape(8, 8)\n",
    "    ax.imshow(image, cmap=plt.cm.gray_r, interpolation=\"nearest\")\n",
    "    ax.set_title(f\"Prediction: {prediction}\")  "
   ]
  },
  {
   "cell_type": "code",
   "execution_count": 8,
   "id": "0bc4c219-e272-4662-a760-2cd87dab31d7",
   "metadata": {},
   "outputs": [
    {
     "name": "stdout",
     "output_type": "stream",
     "text": [
      "Classification report for classifier LogisticRegression(max_iter=10000):\n",
      "              precision    recall  f1-score   support\n",
      "\n",
      "           0       0.99      0.97      0.98        88\n",
      "           1       0.96      0.87      0.91        91\n",
      "           2       0.99      0.98      0.98        86\n",
      "           3       0.96      0.85      0.90        91\n",
      "           4       0.98      0.92      0.95        92\n",
      "           5       0.90      0.96      0.93        91\n",
      "           6       0.92      0.99      0.95        91\n",
      "           7       0.97      0.96      0.96        89\n",
      "           8       0.87      0.89      0.88        88\n",
      "           9       0.82      0.95      0.88        92\n",
      "\n",
      "    accuracy                           0.93       899\n",
      "   macro avg       0.93      0.93      0.93       899\n",
      "weighted avg       0.93      0.93      0.93       899\n",
      "\n",
      "\n"
     ]
    }
   ],
   "source": [
    "print(\n",
    "    f\"Classification report for classifier {regr}:\\n\"\n",
    "    f\"{metrics.classification_report(y_test, y_pred)}\\n\"\n",
    ")"
   ]
  },
  {
   "cell_type": "code",
   "execution_count": 9,
   "id": "a6a0986e-fbde-4ec2-8aab-eca06a59ab60",
   "metadata": {},
   "outputs": [
    {
     "name": "stdout",
     "output_type": "stream",
     "text": [
      "Confusion matrix:\n",
      "[[85  0  0  0  1  0  2  0  0  0]\n",
      " [ 0 79  0  1  0  0  0  0  2  9]\n",
      " [ 0  0 84  2  0  0  0  0  0  0]\n",
      " [ 0  0  0 77  0  4  0  2  7  1]\n",
      " [ 0  0  0  0 85  0  3  0  0  4]\n",
      " [ 0  0  0  0  0 87  2  0  0  2]\n",
      " [ 0  1  0  0  0  0 90  0  0  0]\n",
      " [ 0  0  0  0  1  0  0 85  1  2]\n",
      " [ 0  2  1  0  0  4  1  1 78  1]\n",
      " [ 1  0  0  0  0  2  0  0  2 87]]\n"
     ]
    },
    {
     "data": {
      "image/png": "[encoded data removed]",
      "text/plain": [
       "<Figure size 640x480 with 2 Axes>"
      ]
     },
     "metadata": {},
     "output_type": "display_data"
    }
   ],
   "source": [
    "disp = metrics.ConfusionMatrixDisplay.from_predictions(y_test, y_pred)\n",
    "disp.figure_.suptitle(\"Confusion Matrix\")\n",
    "print(f\"Confusion matrix:\\n{disp.confusion_matrix}\")\n",
    "\n",
    "plt.show()"
   ]
  },
  {
   "cell_type": "code",
   "execution_count": null,
   "id": "94edb4fe-cdf4-4aeb-80db-c4063bffe07c",
   "metadata": {},
   "outputs": [],
   "source": []
  }
 ],
 "metadata": {
  "kernelspec": {
   "display_name": "Python 3 (ipykernel)",
   "language": "python",
   "name": "python3"
  },
  "language_info": {
   "codemirror_mode": {
    "name": "ipython",
    "version": 3
   },
   "file_extension": ".py",
   "mimetype": "text/x-python",
   "name": "python",
   "nbconvert_exporter": "python",
   "pygments_lexer": "ipython3",
   "version": "3.11.5"
  }
 },
 "nbformat": 4,
 "nbformat_minor": 5
}
