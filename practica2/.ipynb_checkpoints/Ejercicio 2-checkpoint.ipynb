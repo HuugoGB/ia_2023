{
 "cells": [
  {
   "cell_type": "markdown",
   "id": "3cf28487-53b1-4443-9381-014dd2ca6bbe",
   "metadata": {},
   "source": [
    "# Práctica 2 - Aprendizaje Automático (Ejercicio 2)"
   ]
  },
  {
   "cell_type": "markdown",
   "id": "e28d396c-34d1-497b-8e01-8ec71e2fa3e4",
   "metadata": {},
   "source": [
    "## Enunciado"
   ]
  },
  {
   "cell_type": "markdown",
   "id": "8bdea199-8419-45ae-b2b4-4a89a9b35f47",
   "metadata": {},
   "source": [
    "En el segon exercici (dificultat B), farem la comparació del rendiment dels tres models anteriors\n",
    "amb el data set complert del repositori UCI Machine learning[7]. Primer proveu si canvien els\n",
    "resultats de l’exercici 1 quan s’aplica a noves dades no emprades a aprenentatge ni a test.\n",
    "Després, intentar millorar els resultats re-aprenent els models amb nous conjunts\n",
    "d’aprenentatge, test i validació, emprant el mètode de k-fold crossvalidation[8] per triar el\n",
    "millor model."
   ]
  },
  {
   "cell_type": "code",
   "execution_count": null,
   "id": "aa121880-a1a2-4616-9839-dbcca9050a78",
   "metadata": {},
   "outputs": [],
   "source": [
    "#pip install ucimlrepo\n"
   ]
  },
  {
   "cell_type": "code",
   "execution_count": null,
   "id": "0fb8b933-b9ba-49c3-8d50-277aae88e590",
   "metadata": {},
   "outputs": [],
   "source": [
    "from ucimlrepo import fetch_ucirepo \n",
    "import numpy as np\n",
    "import matplotlib.pyplot as plt\n",
    "from sklearn import metrics, datasets,svm\n",
    "from sklearn.model_selection import train_test_split, cross_val_score, KFold, GridSearchCV\n",
    "from sklearn.linear_model import Perceptron, LogisticRegression\n",
    "from sklearn.tree import DecisionTreeClassifier\n",
    "from sklearn.ensemble import RandomForestClassifier\n",
    "from sklearn.model_selection import GridSearchCV\n",
    "# fetch dataset \n",
    "optical_recognition_of_handwritten_digits = fetch_ucirepo(id=80) \n",
    "# data (as pandas dataframes) \n",
    "X = optical_recognition_of_handwritten_digits.data.features \n",
    "y = optical_recognition_of_handwritten_digits.data.targets \n",
    "#dataset Ej 1, UTILIZADO PARA ENTRENAMIENTO Y APRENDIZAJE\n",
    "digits = datasets.load_digits()\n",
    "n_samples = len(digits.images)\n",
    "data = digits.images.reshape((n_samples, -1))"
   ]
  },
  {
   "cell_type": "code",
   "execution_count": null,
   "id": "c21c5722-de4a-45aa-b48a-dfc4e1c1e1b0",
   "metadata": {},
   "outputs": [],
   "source": [
    "#Entrenamiento con Dataset del Ej 1\n",
    "X_train, X_test, y_train, y_test = train_test_split(data, digits.target, test_size=0.5, random_state=42,shuffle=False)\n",
    "#Entrenamiento con Dataset del Ej 2\n",
    "X_trainUCI, X_testUCI, y_trainUCI, y_testUCI = train_test_split(X, y, test_size=0.5, random_state=42,shuffle=False)"
   ]
  },
  {
   "cell_type": "markdown",
   "id": "11f7cfd4-2a8a-4c9f-9154-a452c9230db8",
   "metadata": {},
   "source": [
    "La función GridSearchCV realizará la búsqueda de hiperparámetros utilizando validación cruzada interna"
   ]
  },
  {
   "cell_type": "markdown",
   "id": "938409a4-dbb6-49c9-aec8-7107634e41cf",
   "metadata": {},
   "source": [
    "## Perceptrón"
   ]
  },
  {
   "cell_type": "code",
   "execution_count": null,
   "id": "0097fd54-8f3c-4589-a264-a6240274e052",
   "metadata": {},
   "outputs": [],
   "source": [
    "#Se crear el clasificadro con el modelo lineal del perceptron y seguidamente se entrena\n",
    "perceptron = Perceptron(random_state=42)\n",
    "perceptron.fit(X_train, y_train)\n",
    "# Se hace la predicción de los datos para testear\n",
    "y_pred = perceptron.predict(X_testUCI)\n",
    "print(\n",
    "    f\"Classification report for classifier {perceptron}:\\n\"\n",
    "    f\"{metrics.classification_report(y_testUCI, y_pred)}\\n\"\n",
    ")\n",
    "disp = metrics.ConfusionMatrixDisplay.from_predictions(y_testUCI, y_pred)\n",
    "disp.figure_.suptitle(\"Confusion Matrix\")\n",
    "\n",
    "plt.show()"
   ]
  },
  {
   "cell_type": "markdown",
   "id": "ea2c0429-c153-4710-ad6e-b3e3b75b07c0",
   "metadata": {},
   "source": [
    "## Mejora Perceptron"
   ]
  },
  {
   "cell_type": "markdown",
   "id": "7d5600f9-aca6-49d4-93fe-ff755ac70e7d",
   "metadata": {},
   "source": [
    "Parametros usados:\n",
    "- validation_fraction: La proporción de datos de entrenamiento que se reservarán como conjunto de validación para la parada anticipada. Valores entre [0,1]\n",
    "- tol: El criterio de parada. \n",
    "- max_iter: El número máximo de pasos sobre los datos de entrenamiento (también conocidos como épocas). Solo afecta el comportamiento en el método de ajuste, y no en el método de ajuste parcial.\n",
    "  \n",
    "\n",
    "- Alpha: La constante que multiplica el ajuste al calcular el peso. El algoritmo de aprendizaje del perceptrón actualiza cada peso mediante la diferencia de la Y real y la Y estimada, si la diferencia es 0 no hay que cambiar el peso, si son diferentes al calcular la diferencia se cambiará el peso. Alpha al multiplicar ese cambio acentua a reduce el cambio al actualizar el peso. A ese proceso se le llama regularización, alpha és la fuerza de regularización.\n",
    "- Max_iter: El número máximo de veces que los datos de entrenamiento \"pasan\" por el algoritmo de aprendizaje. A estas iteraciones se les suele denominar cómo *epochs* (épocas).\n",
    "- Tol: El algortimo del perceptrón utiliza una función de pérdida que mide la distancia entre el valor estimado y el valor real penalizando malas clasificaciones. Tol és la tolerancia de pérdida, las iteraciones pararán cuando: pérdida > pérdida_anterior - tol. A mayor tolerancia menor penalización a malas clasificaciones. Si la tolerancia es demasiado baja mayor es el riesgo de *overfitting* al ajustarse demasiado a valores atípicos. "
   ]
  },
  {
   "cell_type": "code",
   "execution_count": null,
   "id": "0d4c788f-79dc-45db-bc2f-82dcbf72f1a3",
   "metadata": {},
   "outputs": [],
   "source": [
    "parameters = {\n",
    "    'alpha': (0.0001, 0.001, 0.00001),\n",
    "    'max_iter': (1000, 100, 2500),\n",
    "    'tol': (1e-3, 1e-1, 1e-5)}\n",
    "perceptron = Perceptron(random_state=42)\n",
    "clf = GridSearchCV(perceptron, parameters)\n",
    "clf.fit(X_trainUCI,y_trainUCI)\n",
    "y_pred = clf.predict(X_testUCI)\n",
    "print(\n",
    "    f\"Classification report for classifier {clf}:\\n\"\n",
    "    f\"{metrics.classification_report(y_testUCI, y_pred)}\\n\"\n",
    ")\n",
    "disp = metrics.ConfusionMatrixDisplay.from_predictions(y_testUCI, y_pred)\n",
    "disp.figure_.suptitle(\"Confusion Matrix\")\n",
    "\n",
    "plt.show()\n"
   ]
  },
  {
   "cell_type": "markdown",
   "id": "079f34da-0663-4ac2-94f5-5a5a965009e2",
   "metadata": {},
   "source": [
    "## Regresor Logístico"
   ]
  },
  {
   "cell_type": "code",
   "execution_count": null,
   "id": "da46bb35-5c33-483e-ae53-8891e128c958",
   "metadata": {},
   "outputs": [],
   "source": [
    "regr = LogisticRegression(random_state=42) \n",
    "regr.fit(X_train, y_train);\n",
    "#Se hace la prediccion con los datos de testeo\n",
    "y_pred = regr.predict(X_testUCI)\n",
    "print(\n",
    "    f\"Classification report for classifier {regr}:\\n\"\n",
    "    f\"{metrics.classification_report(y_testUCI, y_pred)}\\n\"\n",
    ")\n",
    "disp = metrics.ConfusionMatrixDisplay.from_predictions(y_testUCI, y_pred)\n",
    "disp.figure_.suptitle(\"Confusion Matrix\")\n",
    "print(f\"Confusion matrix:\\n{disp.confusion_matrix}\")\n",
    "\n",
    "plt.show()"
   ]
  },
  {
   "cell_type": "markdown",
   "id": "b9b89f96-611c-4191-99fd-59005f652682",
   "metadata": {},
   "source": [
    "## Mejora Regresor Logístico"
   ]
  },
  {
   "cell_type": "markdown",
   "id": "4e53a30e-aa85-49b2-bf6a-86132a8e47d4",
   "metadata": {},
   "source": [
    "Parametros escogidos:\n",
    "- C: C és la fuerza de regularización inversa; debe ser un float positivo. A menor valor de C más fuerte serà la regularización.\n",
    "- Tol: El algortimo de regresor logístico utiliza una función de pérdida que mide la distancia entre el valor estimado y el valor real penalizando malas clasificaciones. Tol és la tolerancia de pérdida, las iteraciones pararán cuando: pérdida > pérdida_anterior - tol. A mayor tolerancia menor penalización a malas clasificaciones. Si la tolerancia es demasiado baja mayor es el riesgo de *overfitting* al ajustarse demasiado a valores atípicos. \n",
    "\r\n",
    "- max_iter: El número máximo diteraciones que pueden usar los algoritmos para converger.l."
   ]
  },
  {
   "cell_type": "code",
   "execution_count": null,
   "id": "b24b3699-e074-43c5-ae26-5c6f6472aa2d",
   "metadata": {},
   "outputs": [],
   "source": [
    "parameters = {\n",
    "    'C': (1.0, 0.5, 1.5),\n",
    "    'max_iter': (1000, 10000, 20000),\n",
    "    'tol': (1e-4, 1e-1, 1e-5)}\n",
    "regr = LogisticRegression(random_state=42) \n",
    "clf = GridSearchCV(regr, parameters)\n",
    "clf.fit(X_trainUCI,y_trainUCI)\n",
    "y_pred = clf.predict(X_testUCI)\n",
    "print(\n",
    "    f\"Classification report for classifier {clf}:\\n\"\n",
    "    f\"{metrics.classification_report(y_testUCI, y_pred)}\\n\"\n",
    ")\n",
    "disp = metrics.ConfusionMatrixDisplay.from_predictions(y_testUCI, y_pred)\n",
    "disp.figure_.suptitle(\"Confusion Matrix\")\n",
    "\n",
    "plt.show()"
   ]
  },
  {
   "cell_type": "markdown",
   "id": "039f3af0-4fdc-49a8-a72a-bbbd8a591667",
   "metadata": {},
   "source": [
    "## Arbol de Decisión"
   ]
  },
  {
   "cell_type": "code",
   "execution_count": null,
   "id": "17a3421f-1a1f-49df-b4c6-e239bb5a6f1e",
   "metadata": {},
   "outputs": [],
   "source": [
    "tree = DecisionTreeClassifier(random_state=42);\n",
    "tree.fit(X_train,y_train);\n",
    "\n",
    "#Se hace la prediccion con los datos de testeo\n",
    "y_pred = tree.predict(X_testUCI)\n",
    "\n",
    "print(\n",
    "    f\"Classification report for classifier {tree}:\\n\"\n",
    "    f\"{metrics.classification_report(y_testUCI, y_pred)}\\n\"\n",
    ")\n",
    "disp = metrics.ConfusionMatrixDisplay.from_predictions(y_testUCI, y_pred)\n",
    "disp.figure_.suptitle(\"Confusion Matrix\")\n",
    "print(f\"Confusion matrix:\\n{disp.confusion_matrix}\")\n",
    "\n",
    "plt.show()"
   ]
  },
  {
   "cell_type": "markdown",
   "id": "e55349d2-c7bd-4648-8094-a33510186d83",
   "metadata": {},
   "source": [
    "## Mejora Arbol de Decisión"
   ]
  },
  {
   "cell_type": "markdown",
   "id": "9c77556d-7e05-4c0c-a000-2a7c7963bb82",
   "metadata": {},
   "source": [
    "Parametros seleccionados:\n",
    "- criterion: El criterio para hacer las divisiones binarias que forma el árbol. Hay tres opciones \"gini\", \"entropy\", \"log_loss\". Dependiendo del criterio usado se medirá la calidad de la división.\n",
    "- max_depth: La profundidad máxima del árbol. Cuanto mayor sea la profundidad más divisiones se harán y más preciso serà el resultado pero con mayor probabilidad de overfitting.\n",
    "- min_impurity_decrease: Un nodo se dividirà si la división produce una disminución en impuridad mayor o igual a este valor. La impuridad es suna medida de la homogeneidad de las etiquetas de un nodo. A mayor homogeneidad aporta menor información por lo tanto menos significativas son las etiquetas del nodo para determinar la decisión final. Demasiadas divisiones que no disminuyen la impuridad provocan overfitting. "
   ]
  },
  {
   "cell_type": "code",
   "execution_count": null,
   "id": "ca64ebec-d6ce-4daa-880a-efac8430747a",
   "metadata": {},
   "outputs": [],
   "source": [
    "parameters = {\n",
    "    'criterion': (\"gini\", \"entropy\", \"log_loss\"),\n",
    "    'max_depth': (None, 50, 150),\n",
    "    'min_impurity_decrease': (0.0, 0.10, 0.30)}\n",
    "tree = DecisionTreeClassifier(random_state=42);\n",
    "clf = GridSearchCV(regr, parameters)\n",
    "clf.fit(X_trainUCI,y_trainUCI)\n",
    "y_pred = clf.predict(X_testUCI)\n",
    "print(\n",
    "    f\"Classification report for classifier {clf}:\\n\"\n",
    "    f\"{metrics.classification_report(y_testUCI, y_pred)}\\n\"\n",
    ")\n",
    "disp = metrics.ConfusionMatrixDisplay.from_predictions(y_testUCI, y_pred)\n",
    "disp.figure_.suptitle(\"Confusion Matrix\")\n",
    "\n",
    "plt.show()"
   ]
  },
  {
   "cell_type": "markdown",
   "id": "dcfbaac1-68f2-4085-9db5-8e0ffffa459c",
   "metadata": {},
   "source": [
    "## Bosque Aleatorio"
   ]
  },
  {
   "cell_type": "code",
   "execution_count": null,
   "id": "8b3ce2f6-00db-4405-a9af-e9f6ce10abec",
   "metadata": {},
   "outputs": [],
   "source": [
    "forest = RandomForestClassifier(random_state=42)\n",
    "forest.fit(X_train, y_train);\n",
    "\n",
    "#Se hace la prediccion con los datos de testeo\n",
    "y_pred = forest.predict(X_testUCI)\n",
    "\n",
    "print(\n",
    "    f\"Classification report for classifier {regr}:\\n\"\n",
    "    f\"{metrics.classification_report(y_testUCI, y_pred)}\\n\"\n",
    ")\n",
    "disp = metrics.ConfusionMatrixDisplay.from_predictions(y_testUCI, y_pred)\n",
    "disp.figure_.suptitle(\"Confusion Matrix\")\n",
    "print(f\"Confusion matrix:\\n{disp.confusion_matrix}\")\n",
    "\n",
    "plt.show()"
   ]
  },
  {
   "cell_type": "markdown",
   "id": "3babae9d-aebf-4932-8f8b-916ead8edcd9",
   "metadata": {},
   "source": [
    "COGER 3 PARAMETROS PARA EL CROSS VALIDATION Y SABER EXPLICARLOS LIBRERIA sklearn.model_selection.GridSearchCV"
   ]
  },
  {
   "cell_type": "markdown",
   "id": "dabe606a-9ab5-4238-954e-40a66c768592",
   "metadata": {},
   "source": [
    "## MEJORA BOSQUE"
   ]
  },
  {
   "cell_type": "code",
   "execution_count": null,
   "id": "c18aafe0-fd98-4726-afc2-af85fa5b7661",
   "metadata": {},
   "outputs": [],
   "source": []
  }
 ],
 "metadata": {
  "kernelspec": {
   "display_name": "Python 3 (ipykernel)",
   "language": "python",
   "name": "python3"
  },
  "language_info": {
   "codemirror_mode": {
    "name": "ipython",
    "version": 3
   },
   "file_extension": ".py",
   "mimetype": "text/x-python",
   "name": "python",
   "nbconvert_exporter": "python",
   "pygments_lexer": "ipython3",
   "version": "3.11.5"
  }
 },
 "nbformat": 4,
 "nbformat_minor": 5
}
